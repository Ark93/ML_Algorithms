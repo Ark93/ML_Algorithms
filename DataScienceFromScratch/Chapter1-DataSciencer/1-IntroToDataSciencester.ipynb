{
 "cells": [
  {
   "cell_type": "code",
   "execution_count": 43,
   "metadata": {},
   "outputs": [],
   "source": [
    "import pandas as pd\n",
    "import numpy as np\n",
    "import networkx as nx\n",
    "from matplotlib import pyplot as plt"
   ]
  },
  {
   "cell_type": "code",
   "execution_count": 4,
   "metadata": {},
   "outputs": [],
   "source": [
    "users = [\n",
    "    {\"id\":0 , \"name\":\"Hero\"},\n",
    "    {\"id\":1 , \"name\":\"Dunn\"},\n",
    "    {\"id\":2 , \"name\":\"Sue\"},\n",
    "    {\"id\":3 , \"name\":\"Chi\"},\n",
    "    {\"id\":4 , \"name\":\"Thor\"},\n",
    "    {\"id\":5 , \"name\":\"Clive\"},\n",
    "    {\"id\":6 , \"name\":\"Hicks\"},\n",
    "    {\"id\":7 , \"name\":\"Devin\"},\n",
    "    {\"id\":8 , \"name\":\"Kate\"},\n",
    "    {\"id\":9 , \"name\":\"Klein\"}\n",
    "]\n",
    "\n",
    "friendships = [(0,1),(0,2),(1,2),(1,3),(2,3),(3,4),\n",
    "              (4,5),(5,6),(5,7),(6,8),(7,8),(8,9)]  # note that friendships are not directed, \n",
    "                                                    # then (0,1) and (1,0) would be the same\n",
    "                                                    # thus here only one option is displayed\n",
    "                                                    # to avoid duplicates"
   ]
  },
  {
   "cell_type": "code",
   "execution_count": 21,
   "metadata": {},
   "outputs": [
    {
     "data": {
      "image/png": "[encoded data removed]",
      "text/plain": [
       "<Figure size 432x288 with 1 Axes>"
      ]
     },
     "metadata": {},
     "output_type": "display_data"
    }
   ],
   "source": [
    "from_ = [x[0] for x in friendships]\n",
    "to_ = [x[1] for x in friendships]\n",
    "\n",
    "data = pd.DataFrame({\"from\": from_ , \"to\": to_})\n",
    "\n",
    "G = nx.from_pandas_edgelist(data, 'from', 'to')\n",
    "nx.draw(G, with_labels=True)\n",
    "plt.title('Friendship Network')\n",
    "plt.show()"
   ]
  },
  {
   "cell_type": "code",
   "execution_count": 27,
   "metadata": {},
   "outputs": [],
   "source": [
    "# Adding the 'friends' property to 'users' dictionary\n",
    "for user in users:\n",
    "    user['friends']=[]\n",
    "\n",
    "for i,j in friendships:\n",
    "    users[i]['friends'].append(users[j]['id']) # Only adding friend ID to avoid a Circular list\n",
    "    users[j]['friends'].append(users[i]['id']) # friendship tuples are bidirectional"
   ]
  },
  {
   "cell_type": "code",
   "execution_count": 28,
   "metadata": {},
   "outputs": [
    {
     "data": {
      "text/plain": [
       "[{'id': 0, 'name': 'Hero', 'friends': [1, 2]},\n",
       " {'id': 1, 'name': 'Dunn', 'friends': [0, 2, 3]},\n",
       " {'id': 2, 'name': 'Sue', 'friends': [0, 1, 3]},\n",
       " {'id': 3, 'name': 'Chi', 'friends': [1, 2, 4]},\n",
       " {'id': 4, 'name': 'Thor', 'friends': [3, 5]},\n",
       " {'id': 5, 'name': 'Clive', 'friends': [4, 6, 7]},\n",
       " {'id': 6, 'name': 'Hicks', 'friends': [5, 8]},\n",
       " {'id': 7, 'name': 'Devin', 'friends': [5, 8]},\n",
       " {'id': 8, 'name': 'Kate', 'friends': [6, 7, 9]},\n",
       " {'id': 9, 'name': 'Klein', 'friends': [8]}]"
      ]
     },
     "execution_count": 28,
     "metadata": {},
     "output_type": "execute_result"
    }
   ],
   "source": [
    "users"
   ]
  },
  {
   "cell_type": "code",
   "execution_count": 51,
   "metadata": {},
   "outputs": [],
   "source": [
    "# Calculating \"Average number of connections\"\n",
    "def number_of_friends(user):\n",
    "    return len(user['friends']) # return lenght of list"
   ]
  },
  {
   "cell_type": "code",
   "execution_count": 35,
   "metadata": {},
   "outputs": [
    {
     "name": "stdout",
     "output_type": "stream",
     "text": [
      "2.4\n"
     ]
    }
   ],
   "source": [
    "total_conections = sum(number_of_friends(user) for user in users ) # inner argument is a generator\n",
    "\n",
    "num_users = len(users)\n",
    "\n",
    "avg_connections = total_conections / num_users\n",
    "\n",
    "print(avg_connections)"
   ]
  },
  {
   "cell_type": "code",
   "execution_count": 42,
   "metadata": {},
   "outputs": [
    {
     "data": {
      "text/plain": [
       "[{'id': 1, 'name': 'Dunn', 'friends': [0, 2, 3]},\n",
       " {'id': 2, 'name': 'Sue', 'friends': [0, 1, 3]},\n",
       " {'id': 3, 'name': 'Chi', 'friends': [1, 2, 4]},\n",
       " {'id': 5, 'name': 'Clive', 'friends': [4, 6, 7]},\n",
       " {'id': 8, 'name': 'Kate', 'friends': [6, 7, 9]},\n",
       " {'id': 0, 'name': 'Hero', 'friends': [1, 2]},\n",
       " {'id': 4, 'name': 'Thor', 'friends': [3, 5]},\n",
       " {'id': 6, 'name': 'Hicks', 'friends': [5, 8]},\n",
       " {'id': 7, 'name': 'Devin', 'friends': [5, 8]},\n",
       " {'id': 9, 'name': 'Klein', 'friends': [8]}]"
      ]
     },
     "execution_count": 42,
     "metadata": {},
     "output_type": "execute_result"
    }
   ],
   "source": [
    "# sorting users by number of connections\n",
    "sorted(users, key= lambda x : len(x['friends']), reverse=True) # using lambda to calculate key value item-wise"
   ]
  },
  {
   "cell_type": "code",
   "execution_count": 47,
   "metadata": {},
   "outputs": [],
   "source": [
    "# Creating a adjacent matrix\n",
    "matrix = np.zeros((len(users), len(users)))\n",
    "\n",
    "for i,j in friendships:\n",
    "    matrix[i][j] = 1\n",
    "    matrix[j][i] = 1"
   ]
  },
  {
   "cell_type": "code",
   "execution_count": 49,
   "metadata": {},
   "outputs": [],
   "source": [
    "data = pd.DataFrame(matrix)"
   ]
  },
  {
   "cell_type": "code",
   "execution_count": 56,
   "metadata": {},
   "outputs": [],
   "source": [
    "data['Num. of Connections'] = data.apply(lambda x : sum(x), axis=1)"
   ]
  },
  {
   "cell_type": "code",
   "execution_count": 66,
   "metadata": {},
   "outputs": [],
   "source": [
    "G = nx.from_pandas_adjacency(data.iloc[:,:10])"
   ]
  },
  {
   "cell_type": "code",
   "execution_count": 82,
   "metadata": {},
   "outputs": [
    {
     "data": {
      "image/png": "[encoded data removed]",
      "text/plain": [
       "<Figure size 432x288 with 1 Axes>"
      ]
     },
     "metadata": {},
     "output_type": "display_data"
    }
   ],
   "source": [
    "#nx.draw_networkx()\n",
    "nx.draw(G,with_labels=True, node_size=(data['Num. of Connections']*200),)"
   ]
  },
  {
   "cell_type": "code",
   "execution_count": null,
   "metadata": {},
   "outputs": [],
   "source": []
  }
 ],
 "metadata": {
  "kernelspec": {
   "display_name": "Python 3",
   "language": "python",
   "name": "python3"
  },
  "language_info": {
   "codemirror_mode": {
    "name": "ipython",
    "version": 3
   },
   "file_extension": ".py",
   "mimetype": "text/x-python",
   "name": "python",
   "nbconvert_exporter": "python",
   "pygments_lexer": "ipython3",
   "version": "3.8.3"
  }
 },
 "nbformat": 4,
 "nbformat_minor": 4
}
