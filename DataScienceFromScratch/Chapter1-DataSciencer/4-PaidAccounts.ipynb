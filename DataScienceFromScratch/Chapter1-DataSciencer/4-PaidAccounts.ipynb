{
 "cells": [
  {
   "cell_type": "code",
   "execution_count": 1,
   "metadata": {},
   "outputs": [],
   "source": [
    "import numpy as np"
   ]
  },
  {
   "cell_type": "code",
   "execution_count": 3,
   "metadata": {},
   "outputs": [],
   "source": [
    "experience_and_paid_account = [(0.7,'paid'),(1.9,'unpaid'),\n",
    "                        (2.5,'paid'),(4.2,'unpaid'),\n",
    "                        (6,'unpaid'),(6.5,'unpaid'),\n",
    "                        (7.5,'unpaid'),(8.1,'unpaid'),\n",
    "                        (8.7,'paid'),(10,'paid')]"
   ]
  },
  {
   "cell_type": "code",
   "execution_count": 4,
   "metadata": {},
   "outputs": [],
   "source": [
    "def predict_paid_ir_unpaid(years_experience):\n",
    "    if (years_experience<3):\n",
    "        return 'paid'\n",
    "    elif years_experience <8.5:\n",
    "        return 'unpaid'\n",
    "    else:\n",
    "        return 'paid'"
   ]
  },
  {
   "cell_type": "code",
   "execution_count": 7,
   "metadata": {},
   "outputs": [
    {
     "name": "stdout",
     "output_type": "stream",
     "text": [
      "['paid', 'paid', 'paid', 'unpaid', 'unpaid', 'unpaid', 'unpaid', 'unpaid', 'paid', 'paid']\n"
     ]
    }
   ],
   "source": [
    "print( [predict_paid_ir_unpaid(years_experience) for years_experience, paid in experience_and_paid_account] )"
   ]
  },
  {
   "cell_type": "code",
   "execution_count": null,
   "metadata": {},
   "outputs": [],
   "source": []
  }
 ],
 "metadata": {
  "kernelspec": {
   "display_name": "Python 3",
   "language": "python",
   "name": "python3"
  },
  "language_info": {
   "codemirror_mode": {
    "name": "ipython",
    "version": 3
   },
   "file_extension": ".py",
   "mimetype": "text/x-python",
   "name": "python",
   "nbconvert_exporter": "python",
   "pygments_lexer": "ipython3",
   "version": "3.8.3"
  }
 },
 "nbformat": 4,
 "nbformat_minor": 4
}
