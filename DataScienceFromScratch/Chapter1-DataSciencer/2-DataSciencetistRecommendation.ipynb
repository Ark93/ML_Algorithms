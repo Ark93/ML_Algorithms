{
 "cells": [
  {
   "cell_type": "code",
   "execution_count": 1,
   "metadata": {},
   "outputs": [],
   "source": [
    "import pandas as pd\n",
    "import numpy as np\n",
    "import networkx as nx\n",
    "from matplotlib import pyplot as plt\n",
    "import timeit"
   ]
  },
  {
   "cell_type": "code",
   "execution_count": 2,
   "metadata": {},
   "outputs": [],
   "source": [
    "users = [\n",
    "    {\"id\":0 , \"name\":\"Hero\"},\n",
    "    {\"id\":1 , \"name\":\"Dunn\"},\n",
    "    {\"id\":2 , \"name\":\"Sue\"},\n",
    "    {\"id\":3 , \"name\":\"Chi\"},\n",
    "    {\"id\":4 , \"name\":\"Thor\"},\n",
    "    {\"id\":5 , \"name\":\"Clive\"},\n",
    "    {\"id\":6 , \"name\":\"Hicks\"},\n",
    "    {\"id\":7 , \"name\":\"Devin\"},\n",
    "    {\"id\":8 , \"name\":\"Kate\"},\n",
    "    {\"id\":9 , \"name\":\"Klein\"}\n",
    "]\n",
    "\n",
    "friendships = [(0,1),(0,2),(1,2),(1,3),(2,3),(3,4),\n",
    "              (4,5),(5,6),(5,7),(6,8),(7,8),(8,9)]  # note that friendships are not directed, \n",
    "                                                    # then (0,1) and (1,0) would be the same\n",
    "                                                    # thus here only one option is displayed\n",
    "                                                    # to avoid duplicates"
   ]
  },
  {
   "cell_type": "code",
   "execution_count": 7,
   "metadata": {},
   "outputs": [],
   "source": [
    "# Adding the 'friends' property to 'users' dictionary\n",
    "for user in users:\n",
    "    user['friends']=[]\n",
    "\n",
    "for i,j in friendships:\n",
    "    users[i]['friends'].append(users[j]) # Only adding friend ID to avoid a Circular list\n",
    "    users[j]['friends'].append(users[i]) # friendship tuples are bidirectional"
   ]
  },
  {
   "cell_type": "code",
   "execution_count": 32,
   "metadata": {},
   "outputs": [
    {
     "data": {
      "text/plain": [
       "[0, 2, 3, 0, 1, 3]"
      ]
     },
     "execution_count": 32,
     "metadata": {},
     "output_type": "execute_result"
    }
   ],
   "source": [
    "# Recommending friends of a friend\n",
    "\n",
    "def friend_of_friend_bad(user):\n",
    "    return [foaf['id']\n",
    "            for friend in user[\"friends\"]  #for each of users friends\n",
    "            for foaf in friend['friends']] #return their friends id \n",
    "\n",
    "friend_of_friend_bad(users[0])"
   ]
  },
  {
   "cell_type": "code",
   "execution_count": 33,
   "metadata": {},
   "outputs": [],
   "source": [
    "# Counting friends in common with helpers"
   ]
  },
  {
   "cell_type": "code",
   "execution_count": 66,
   "metadata": {},
   "outputs": [],
   "source": [
    "def not_the_same(user,other_user):\n",
    "    '''check if the recomended friend is the original user'''\n",
    "    return user['id'] != other_user['id']\n",
    "\n",
    "def not_friends(user, other_user):\n",
    "    '''check if the other user is not part of the original user friends'''\n",
    "    #return all(not_the_same(friend, other_user)\n",
    "    #          for friend in user['friends'])                                      #v1 original one\n",
    "    return other_user['id'] not in [friend['id'] for friend in  user['friends']]   #v2\n",
    "    "
   ]
  },
  {
   "cell_type": "code",
   "execution_count": 68,
   "metadata": {},
   "outputs": [
    {
     "data": {
      "text/plain": [
       "1.2208759680033836"
      ]
     },
     "execution_count": 68,
     "metadata": {},
     "output_type": "execute_result"
    }
   ],
   "source": [
    "#v1\n",
    "timeit.timeit('not_friends(users[0],users[5])', setup=\"from __main__ import not_friends, users\")"
   ]
  },
  {
   "cell_type": "code",
   "execution_count": 69,
   "metadata": {},
   "outputs": [
    {
     "data": {
      "text/plain": [
       "1.216281090000848"
      ]
     },
     "execution_count": 69,
     "metadata": {},
     "output_type": "execute_result"
    }
   ],
   "source": [
    "#v2\n",
    "timeit.timeit('not_friends(users[0],users[5])', setup=\"from __main__ import not_friends, users\")"
   ]
  },
  {
   "cell_type": "code",
   "execution_count": 81,
   "metadata": {},
   "outputs": [],
   "source": [
    "from collections import Counter"
   ]
  },
  {
   "cell_type": "code",
   "execution_count": 85,
   "metadata": {},
   "outputs": [],
   "source": [
    "def friends_of_friends(user):\n",
    "    '''return friends of friends and how many of the user friends have befriend them '''\n",
    "    return Counter(foaf['id']\n",
    "           for friend in user[\"friends\"]\n",
    "           for foaf in friend['friends']\n",
    "           if not_the_same(user, foaf)\n",
    "           and not_friends(user,foaf))"
   ]
  },
  {
   "cell_type": "code",
   "execution_count": 87,
   "metadata": {},
   "outputs": [
    {
     "name": "stdout",
     "output_type": "stream",
     "text": [
      "Counter({0: 2, 5: 1})\n"
     ]
    }
   ],
   "source": [
    "print(friends_of_friends(users[3]))"
   ]
  },
  {
   "cell_type": "code",
   "execution_count": 92,
   "metadata": {},
   "outputs": [],
   "source": [
    "interests = [\n",
    "    (0,'Hadop'),(0,'Big Data'),(0,'HBase'),(0,'Java'),\n",
    "    (0,'Spark'),(0,'Storm'),(0,'Cassandra'),\n",
    "    (1,'NoSQL'),(1,'MongoDB'),(1,'Cassandra'),(1,'HBase'),\n",
    "    (1,'Postgres'),(2,'Python'),(2,'scikit-learn'),(2,'scipy'),\n",
    "    (2,'numpy'),(2,'statsmodels'),(2,'pandas'),(3,'R'),(3,'Python'),\n",
    "    (3,'statistics'),(3,'regression'),(3,'probability'),\n",
    "    (4,'machine learning'),(4,'regression'),(4,'decision trees'),\n",
    "    (4,'libsvm'),(5,'Python'),(5,'R'),(5,'Java'),(5,'C++'),\n",
    "    (5,'Haskell'),(5,'programming languages'),(6,'statistics'),\n",
    "    (6,'probability'),(6,'mathematics'),(6,'theory'),\n",
    "    (7,'machine learning'),(7,'scikit-learn'),(7,'Mahout'),\n",
    "    (7,'neural networks'),(8,'neural networks'),(8,'deep learning'),\n",
    "    (8,'Big Data'),(8,'artificial intelligence'),(9,'Haddop'),\n",
    "    (9,'Java'),(9,'MapReduce'),(9,'Big Data')\n",
    "]"
   ]
  },
  {
   "cell_type": "code",
   "execution_count": 101,
   "metadata": {},
   "outputs": [],
   "source": [
    "# how to group people by similar interest?\n",
    "# Measure how simmilar people interests are and retrieve the ones with more simmilar interests that are not friends\n",
    "for user in users:\n",
    "    user['interest'] = []\n",
    "    \n",
    "for user,interest in interests:\n",
    "    users[user]['interest'].append(interest)"
   ]
  },
  {
   "cell_type": "code",
   "execution_count": 129,
   "metadata": {},
   "outputs": [
    {
     "data": {
      "text/plain": [
       "[(9, 2), (5, 1), (8, 1)]"
      ]
     },
     "execution_count": 129,
     "metadata": {},
     "output_type": "execute_result"
    }
   ],
   "source": [
    "### original functions by @Santos\n",
    "def similar_interest_metric(user, otheruser):\n",
    "    '''intercept user and otheruser interest and count how many interests they share'''\n",
    "    return len(set(user[\"interest\"]).intersection(otheruser['interest']))\n",
    "\n",
    "def new_friends_similar_interests(user,users):\n",
    "    '''calculate similar interest between user and other users. Recommend descending sorted user ids only if they share interests'''\n",
    "    return sorted(((otheruser['id'],similar_interest_metric(user,otheruser))\n",
    "                  for otheruser in users \n",
    "                  if not_the_same(user,otheruser)\n",
    "                  and not_friends(user,otheruser)\n",
    "                  and (similar_interest_metric(user,otheruser) > 0)\n",
    "                  ), key=(lambda x: x[1]), reverse=True)\n",
    "### this solution do not scalate. Poor performance.\n",
    "\n",
    "new_friends_similar_interests(users[0], users)"
   ]
  },
  {
   "cell_type": "code",
   "execution_count": 175,
   "metadata": {},
   "outputs": [],
   "source": [
    "### original functions by @Santos\n",
    "### creating an user-interest table\n",
    "interest_hash = dict(\n",
    "    zip(\n",
    "        sorted(set(i_name for user,i_name in interests)), # get interest sorted\n",
    "        range(0,len(interest_names)) # index for each interest\n",
    "    ) # zip them\n",
    ") #create hash table\n",
    "\n",
    "interest_table = np.zeros((len(users),len(interest_names))) ## n x m shaped matrix, where n = users, m = interests\n",
    "\n",
    "for user,interest in interests: ## fill interest table\n",
    "    interest_table[user,interest_hash[interest]]=1 \n",
    "\n",
    "def get_interests(user_interests, interest_names):\n",
    "    '''return interest_names using masked user_interests array'''\n",
    "    return [interest for flag,interest in zip(user_interests,interest_names) if flag]\n",
    "\n",
    "def compute_interest_similarity(user,other_user):\n",
    "    '''sum cross product of interest array'''\n",
    "    return sum(user*other_user)\n",
    "\n",
    "def new_friends_similar_interests(user,users):\n",
    "    '''calculate similar interest between user and other users. Recommend descending sorted user ids only if they share interests'''\n",
    "    return sorted((\n",
    "        (other_user['id'],compute_interest_similarity(interest_table[user['id']],interest_table[other_user['id']]))\n",
    "                  for other_user in users \n",
    "                  if not_the_same(user,other_user)\n",
    "                  and not_friends(user,other_user)\n",
    "                  and (compute_interest_similarity(interest_table[user['id']],interest_table[other_user['id']]) > 0)\n",
    "                  ), key=(lambda x: x[1]), reverse=True)\n",
    "\n",
    "new_friends_similar_interests(users[0],users)\n",
    "\n",
    "# this solution is more efficient. indexed table is easier to work with"
   ]
  },
  {
   "cell_type": "code",
   "execution_count": 195,
   "metadata": {},
   "outputs": [],
   "source": [
    "### functions by book\n",
    "def data_scientists_who_like(target_interest):\n",
    "    return [user_id\n",
    "            for user_id, user_interest in interests \n",
    "            if user_interest == target_interest]\n",
    "\n",
    "from collections import defaultdict\n",
    "\n",
    "# keys are interest, values are lists of user_ids with that interest\n",
    "users_ids_by_interest = defaultdict(list) # default dict creates a dictionary where the value is the indicated object type\n",
    "\n",
    "for user_id,interest in interests:\n",
    "    users_ids_by_interest[interest].append(user_id) # when a key is provided a default value is fetched. In this case is a empty list\n",
    "\n",
    "interests_by_user_id = defaultdict(list)\n",
    "\n",
    "for user_id,interest in interests:\n",
    "    interests_by_user_id[user_id].append(interest) # when a key is provided a default value is fetched. In this case is a empty list\n",
    "\n",
    "def most_common_interest_with(user):\n",
    "    return Counter(interested_user_id # count number of times other_user_id shows\n",
    "                   for interest in interests_by_user_id[user['id']] # get all interest of the user\n",
    "                   for interested_user_id in users_ids_by_interest[interest] # get all users with the same interest\n",
    "                   if interested_user_id!=user['id']) # verify that the original user is not counted\n",
    "\n",
    "most_common_interest_with(users[0])\n",
    "\n",
    "'''\n",
    "This solution create a double dictionary to iterate by each other.\n",
    "While index_table is a solution, adding new interest requires non-trivial operations.\n",
    "This solution is simpler. when a new interest is created a new entry in users_ids_by_interest reflects\n",
    "which users have that interest and for each of those users a new interest is append in interests_by_user_id.\n",
    "'''"
   ]
  },
  {
   "cell_type": "code",
   "execution_count": 196,
   "metadata": {},
   "outputs": [
    {
     "data": {
      "text/plain": [
       "Counter({8: 1, 9: 2, 1: 2, 5: 1})"
      ]
     },
     "execution_count": 196,
     "metadata": {},
     "output_type": "execute_result"
    }
   ],
   "source": []
  },
  {
   "cell_type": "code",
   "execution_count": null,
   "metadata": {},
   "outputs": [],
   "source": []
  }
 ],
 "metadata": {
  "kernelspec": {
   "display_name": "Python 3",
   "language": "python",
   "name": "python3"
  },
  "language_info": {
   "codemirror_mode": {
    "name": "ipython",
    "version": 3
   },
   "file_extension": ".py",
   "mimetype": "text/x-python",
   "name": "python",
   "nbconvert_exporter": "python",
   "pygments_lexer": "ipython3",
   "version": "3.8.3"
  }
 },
 "nbformat": 4,
 "nbformat_minor": 4
}
